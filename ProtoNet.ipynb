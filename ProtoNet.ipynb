{
 "cells": [
  {
   "cell_type": "code",
   "execution_count": null,
   "metadata": {
    "collapsed": true
   },
   "outputs": [],
   "source": [
    "%matplotlib inline\n",
    "import numpy as np\n",
    "import tensorflow as tf\n",
    "import os\n",
    "import glob\n",
    "import matplotlib.pyplot as plt\n",
    "from PIL import Image"
   ]
  },
  {
   "cell_type": "code",
   "execution_count": null,
   "metadata": {
    "collapsed": true
   },
   "outputs": [],
   "source": [
    "def conv_block(inputs, out_channels, name='conv'):\n",
    "    with tf.variable_scope(name):\n",
    "        conv = tf.layers.conv2d(inputs, out_channels, kernel_size=3, padding='SAME')\n",
    "        conv = tf.contrib.layers.batch_norm(conv, updates_collections=None, decay=0.99, scale=True, center=True)\n",
    "        conv = tf.nn.relu(conv)\n",
    "        conv = tf.contrib.layers.max_pool2d(conv, 2)\n",
    "        return conv"
   ]
  },
  {
   "cell_type": "code",
   "execution_count": null,
   "metadata": {
    "collapsed": true
   },
   "outputs": [],
   "source": [
    "def encoder(x, h_dim, z_dim, reuse=False):\n",
    "    with tf.variable_scope('encoder', reuse=reuse):\n",
    "        net = conv_block(x, h_dim, name='conv_1')\n",
    "        net = conv_block(net, h_dim, name='conv_2')\n",
    "        net = conv_block(net, h_dim, name='conv_3')\n",
    "        net = conv_block(net, z_dim, name='conv_4')\n",
    "        net = tf.contrib.layers.flatten(net)\n",
    "        return net"
   ]
  },
  {
   "cell_type": "code",
   "execution_count": null,
   "metadata": {
    "collapsed": true
   },
   "outputs": [],
   "source": [
    "def euclidean_distance(a, b):\n",
    "    # x.shape = N x D\n",
    "    # y.shape = M x D\n",
    "    N, D = tf.shape(a)[0], tf.shape(a)[1]\n",
    "    M = tf.shape(b)[0]\n",
    "    a = tf.tile(tf.expand_dims(a, axis=1), (1, M, 1))\n",
    "    b = tf.tile(tf.expand_dims(b, axis=0), (N, 1, 1))\n",
    "    return tf.reduce_mean(tf.square(a - b), axis=2)"
   ]
  },
  {
   "cell_type": "code",
   "execution_count": null,
   "metadata": {
    "collapsed": true
   },
   "outputs": [],
   "source": [
    "n_epochs = 10000\n",
    "n_episodes = 100\n",
    "n_way = 60\n",
    "n_shot = 5\n",
    "n_query = 5\n",
    "n_examples = 20\n",
    "im_width, im_height, channels = 28, 28, 1"
   ]
  },
  {
   "cell_type": "code",
   "execution_count": null,
   "metadata": {},
   "outputs": [],
   "source": [
    "# Load Dataset\n",
    "root_dir = './data/omniglot'\n",
    "train_split_path = os.path.join(root_dir, 'splits', 'train.txt')\n",
    "with open(train_split_path, 'r') as train_split:\n",
    "    train_classes = [line.rstrip() for line in train_split.readlines()]\n",
    "n_classes = len(train_classes)\n",
    "train_dataset = np.zeros([n_classes, 20, 28, 28], dtype=np.float32)\n",
    "for i, tc in enumerate(train_classes):\n",
    "    alphabet, character, rotation = tc.split('/')\n",
    "    rotation = float(rotation[3:])\n",
    "    im_dir = os.path.join(root_dir, 'data', alphabet, character)\n",
    "    im_files = sorted(glob.glob(os.path.join(im_dir, '*.png')))\n",
    "    for j, im_file in enumerate(im_files):\n",
    "        im = 1. - np.array(Image.open(im_file).rotate(rotation).resize((28, 28)), np.float32, copy=False)\n",
    "        train_dataset[i, j] = im\n",
    "print train_dataset.shape"
   ]
  },
  {
   "cell_type": "code",
   "execution_count": null,
   "metadata": {},
   "outputs": [],
   "source": [
    "x = tf.placeholder(tf.float32, [None, None, im_height, im_width, channels])\n",
    "q = tf.placeholder(tf.float32, [None, None, im_height, im_width, channels])\n",
    "x_shape = tf.shape(x)\n",
    "q_shape = tf.shape(q)\n",
    "num_classes, num_support = x_shape[0], x_shape[1]\n",
    "num_queries = q_shape[1]\n",
    "y = tf.placeholder(tf.int64, [None, None])\n",
    "y_one_hot = tf.one_hot(y, depth=num_classes)\n",
    "emb_x = encoder(tf.reshape(x, [num_classes * num_support, im_height, im_width, channels]), 64, 64)\n",
    "emb_dim = tf.shape(emb_x)[-1]\n",
    "emb_x = tf.reduce_mean(tf.reshape(emb_x, [num_classes, num_support, emb_dim]), axis=1)\n",
    "emb_q = encoder(tf.reshape(q, [num_classes * num_queries, im_height, im_width, channels]), 64, 64, reuse=True)\n",
    "dists = euclidean_distance(emb_q, emb_x)\n",
    "log_p_y = tf.reshape(tf.nn.log_softmax(-dists), [num_classes, num_queries, -1])\n",
    "ce_loss = -tf.reduce_mean(tf.reshape(tf.reduce_sum(tf.multiply(y_one_hot, log_p_y), axis=-1), [-1]))\n",
    "acc = tf.reduce_mean(tf.to_float(tf.equal(tf.argmax(log_p_y, axis=-1), y)))"
   ]
  },
  {
   "cell_type": "code",
   "execution_count": null,
   "metadata": {},
   "outputs": [],
   "source": [
    "train_op = tf.train.AdamOptimizer().minimize(ce_loss)"
   ]
  },
  {
   "cell_type": "code",
   "execution_count": null,
   "metadata": {
    "collapsed": true
   },
   "outputs": [],
   "source": [
    "sess = tf.InteractiveSession()\n",
    "init_op = tf.global_variables_initializer()\n",
    "sess.run(init_op)"
   ]
  },
  {
   "cell_type": "code",
   "execution_count": null,
   "metadata": {},
   "outputs": [],
   "source": [
    "for ep in range(n_epochs):\n",
    "    for epi in range(n_episodes):\n",
    "        epi_classes = np.random.permutation(n_classes)[:n_way]\n",
    "        support = np.zeros([n_way, n_shot, 28, 28], dtype=np.float32)\n",
    "        query = np.zeros([n_way, n_query, 28, 28], dtype=np.float32)\n",
    "        for i, epi_cls in enumerate(epi_classes):\n",
    "            selected = np.random.permutation(n_examples)[:n_shot + n_query]\n",
    "            support[i] = train_dataset[epi_cls, selected[:n_shot]]\n",
    "            query[i] = train_dataset[epi_cls, selected[n_shot:]]\n",
    "        support = np.expand_dims(support, axis=-1)\n",
    "        query = np.expand_dims(query, axis=-1)\n",
    "        labels = np.tile(np.arange(n_way)[:, np.newaxis], (1, n_query)).astype(np.uint8)\n",
    "        _, ls, ac = sess.run([train_op, ce_loss, acc], feed_dict={x: support, q: query, y:labels})\n",
    "        print 'epoch {}/{}, episode {}/{} loss: {:.5f}, acc: {:.5f}'.format(ep+1, n_epochs, epi+1, n_episodes, ls, ac)"
   ]
  },
  {
   "cell_type": "code",
   "execution_count": null,
   "metadata": {},
   "outputs": [],
   "source": []
  },
  {
   "cell_type": "code",
   "execution_count": null,
   "metadata": {
    "collapsed": true
   },
   "outputs": [],
   "source": []
  }
 ],
 "metadata": {
  "kernelspec": {
   "display_name": "Python 2",
   "language": "python",
   "name": "python2"
  },
  "language_info": {
   "codemirror_mode": {
    "name": "ipython",
    "version": 2
   },
   "file_extension": ".py",
   "mimetype": "text/x-python",
   "name": "python",
   "nbconvert_exporter": "python",
   "pygments_lexer": "ipython2",
   "version": "2.7.14"
  }
 },
 "nbformat": 4,
 "nbformat_minor": 2
}
